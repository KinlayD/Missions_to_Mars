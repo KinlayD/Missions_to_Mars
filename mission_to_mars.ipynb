{
 "cells": [
  {
   "cell_type": "code",
   "execution_count": 1,
   "metadata": {},
   "outputs": [
    {
     "name": "stdout",
     "output_type": "stream",
     "text": [
      "\n"
     ]
    }
   ],
   "source": [
    "# Dependencies\n",
    "from bs4 import BeautifulSoup\n",
    "import requests\n",
    "import pandas as pd\n",
    "from splinter import Browser\n",
    "from webdriver_manager.chrome import ChromeDriverManager\n",
    "import time\n",
    "import requests\n",
    "\n",
    "# define path to chrome driver\n",
    "executable_path = {'executable_path': ChromeDriverManager().install()}"
   ]
  },
  {
   "cell_type": "code",
   "execution_count": 2,
   "metadata": {},
   "outputs": [],
   "source": [
    "# open browser for splinter scraping\n",
    "\n",
    "# create a new browser object \n",
    "browser = Browser('chrome', **executable_path, headless=False)"
   ]
  },
  {
   "cell_type": "code",
   "execution_count": 3,
   "metadata": {},
   "outputs": [],
   "source": [
    "## NASA MARS NEWS\n",
    "\n",
    "    # Scrape the Mars News Site and collect the latest News Title and Paragraph Text. \n",
    "    # Assign the text to variables that you can reference later.\n",
    "\n",
    "# visit url:\n",
    "url = 'https://redplanetscience.com/'\n",
    "browser.visit(url)\n",
    "time.sleep(1)\n",
    "\n",
    "\n",
    "# scrape news title and paragraph text from soup object\n",
    "\n",
    "for x in range(1):\n",
    "    html = browser.html\n",
    "    soup = BeautifulSoup(html, 'html.parser')\n",
    "    image_and_descriptions = soup.find_all('section', class_='image_and_description_container')\n",
    "    for text in image_and_descriptions:\n",
    "        content_title_tag = text.find(class_=\"content_title\").text\n",
    "        news_title = content_title_tag\n",
    "        news_p = text.find(class_=\"article_teaser_body\").text\n"
   ]
  },
  {
   "cell_type": "code",
   "execution_count": 6,
   "metadata": {},
   "outputs": [],
   "source": [
    "## JPL MARS SPACE IMAGES - FEATURED IMAGE\n",
    "\n",
    "    # Use splinter to navigate the site and find the image url for the current Featured Mars Image and \n",
    "        # assign the url string to a variable called featured_image_url.\n",
    "    # Make sure to find the image url to the full size .jpg image.\n",
    "    # Make sure to save a complete url string for this image.\n",
    "\n",
    "# visit url\n",
    "url_1 = 'https://spaceimages-mars.com/'\n",
    "browser.visit(url_1)\n",
    "time.sleep(1)\n",
    "\n",
    "# scrape img url and concatinate with link\n",
    "for x in range(1):\n",
    "    html_1 = browser.html\n",
    "    soup_1 = BeautifulSoup(html_1, 'html.parser')\n",
    "    header_html = soup_1.find_all('a', class_=\"showimg fancybox-thumbs\")\n",
    "    for link in header_html:\n",
    "        img_tag = link['href']\n",
    "        featured_image_url = url_1 + img_tag"
   ]
  },
  {
   "cell_type": "code",
   "execution_count": 8,
   "metadata": {},
   "outputs": [
    {
     "data": {
      "text/plain": [
       "'<table border=\"1\" class=\"dataframe\">\\n  <thead>\\n    <tr style=\"text-align: right;\">\\n      <th></th>\\n      <th>Mars</th>\\n      <th>Earth</th>\\n    </tr>\\n    <tr>\\n      <th>Mars - Earth Comparison</th>\\n      <th></th>\\n      <th></th>\\n    </tr>\\n  </thead>\\n  <tbody>\\n    <tr>\\n      <th>Diameter:</th>\\n      <td>6,779 km</td>\\n      <td>12,742 km</td>\\n    </tr>\\n    <tr>\\n      <th>Mass:</th>\\n      <td>6.39 × 10^23 kg</td>\\n      <td>5.97 × 10^24 kg</td>\\n    </tr>\\n    <tr>\\n      <th>Moons:</th>\\n      <td>2</td>\\n      <td>1</td>\\n    </tr>\\n    <tr>\\n      <th>Distance from Sun:</th>\\n      <td>227,943,824 km</td>\\n      <td>149,598,262 km</td>\\n    </tr>\\n    <tr>\\n      <th>Length of Year:</th>\\n      <td>687 Earth days</td>\\n      <td>365.24 days</td>\\n    </tr>\\n    <tr>\\n      <th>Temperature:</th>\\n      <td>-87 to -5 °C</td>\\n      <td>-88 to 58°C</td>\\n    </tr>\\n  </tbody>\\n</table>'"
      ]
     },
     "execution_count": 8,
     "metadata": {},
     "output_type": "execute_result"
    }
   ],
   "source": [
    "## MARS FACTS\n",
    "\n",
    "    # Visit the Mars Facts webpage here and use Pandas to scrape the table containing facts \n",
    "    # about the planet including Diameter, Mass, etc.\n",
    "    # Use Pandas to convert the data to a HTML table string\n",
    "\n",
    "url_3 = 'https://galaxyfacts-mars.com/'\n",
    "tables = pd.read_html(url_3)\n",
    "mars_facts = tables[0]\n",
    "mars_planet_profile = tables[1]\n",
    "mars_facts.columns = mars_facts.iloc[0]\n",
    "mars_facts = mars_facts.iloc[1:].set_index('Mars - Earth Comparison')\n",
    "mars_facts_table = mars_facts.replace('\\n', '')\n",
    "mars_facts_table.to_html()\n",
    "\n"
   ]
  },
  {
   "cell_type": "code",
   "execution_count": 9,
   "metadata": {},
   "outputs": [],
   "source": [
    "## MARS HEMISPHERES\n",
    "\n",
    "    # Visit the Astrogeology site here to obtain high resolution images for each of Mars' hemispheres.\n",
    "    # You will need to click each of the links to the hemispheres in order to find the image url to the \n",
    "        # full resolution image.\n",
    "    # Save both the image url string for the full resolution hemisphere image, and the Hemisphere title \n",
    "        # containing the hemisphere name. Use a Python dictionary to store the data using the keys img_url and title.\n",
    "    # Append the dictionary with the image url string and the hemisphere title to a list. \n",
    "        # This list will contain one dictionary for each hemisphere.\n",
    "\n",
    "# visit url\n",
    "url_2 = 'https://marshemispheres.com/'\n",
    "browser.visit(url_2)\n",
    "time.sleep(1)\n",
    "html_2 = browser.html\n",
    "soup_2 = BeautifulSoup(html_2, 'html.parser')\n",
    "\n",
    "# scrape title:\n",
    "item_html = soup_2.find_all('div', class_='item')\n",
    "title =[]\n",
    "for h3 in item_html:                                                                                                                                                                                                                                                                                                                                                                                                                \n",
    "    tag_text = h3.find('h3').text\n",
    "    title.append(tag_text)\n"
   ]
  },
  {
   "cell_type": "code",
   "execution_count": 11,
   "metadata": {},
   "outputs": [],
   "source": [
    "# scrape image url\n",
    "\n",
    "url_2 = 'https://marshemispheres.com/'\n",
    "browser.visit(url_2)\n",
    "time.sleep(1)\n",
    "\n",
    "image_url = []\n",
    "for t in title:\n",
    "    browser.links.find_by_partial_text(t).first.click()\n",
    "    html_3 = browser.html\n",
    "    soup_3 = BeautifulSoup(html_3, 'html.parser')\n",
    "    time.sleep(1)\n",
    "    sample_img = soup_3.find_all('a', string='Sample')\n",
    "    for img in sample_img:\n",
    "        time.sleep(1)\n",
    "        image_url.append(img['href'])\n",
    "        browser.find_by_tag('h3').last.click()"
   ]
  },
  {
   "cell_type": "code",
   "execution_count": 14,
   "metadata": {},
   "outputs": [],
   "source": [
    "# create full url list\n",
    "full_image_url = [url_2 + url for url in image_url]\n",
    "\n",
    "# create tuples of title and url\n",
    "title_and_url = zip(title, full_image_url)\n",
    "\n",
    "# append title and urls as a list of of key value pairs\n",
    "hemisphere_image_urls = []\n",
    "for t, u in title_and_url:\n",
    "    title_and_url_dict = {\n",
    "        'title': t,\n",
    "        'img_url': u\n",
    "    }\n",
    "    hemisphere_image_urls.append(title_and_url_dict)\n"
   ]
  },
  {
   "cell_type": "code",
   "execution_count": 15,
   "metadata": {},
   "outputs": [],
   "source": [
    "browser.quit()"
   ]
  }
 ],
 "metadata": {
  "kernelspec": {
   "display_name": "Python 3.7.13 ('bootcamp')",
   "language": "python",
   "name": "python3"
  },
  "language_info": {
   "codemirror_mode": {
    "name": "ipython",
    "version": 3
   },
   "file_extension": ".py",
   "mimetype": "text/x-python",
   "name": "python",
   "nbconvert_exporter": "python",
   "pygments_lexer": "ipython3",
   "version": "3.7.13"
  },
  "orig_nbformat": 4,
  "vscode": {
   "interpreter": {
    "hash": "efc213f78c2332ade3cb52c89bda8c080bc1ae1c359626bac6e5e7c902af6ee9"
   }
  }
 },
 "nbformat": 4,
 "nbformat_minor": 2
}
